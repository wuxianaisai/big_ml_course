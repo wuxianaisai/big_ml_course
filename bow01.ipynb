{
  "nbformat": 4,
  "nbformat_minor": 0,
  "metadata": {
    "colab": {
      "provenance": [],
      "authorship_tag": "ABX9TyPzUzu0l+YeD0GYMUtzcQqd"
    },
    "kernelspec": {
      "name": "python3",
      "display_name": "Python 3"
    },
    "language_info": {
      "name": "python"
    }
  },
  "cells": [
    {
      "cell_type": "code",
      "source": [
        "text = [\"This is a line\",\n",
        "        \"This is another line\",\n",
        "        \"Completely different line\"]"
      ],
      "metadata": {
        "id": "Idg5o44O89G-"
      },
      "execution_count": 50,
      "outputs": []
    },
    {
      "cell_type": "code",
      "source": [
        "from sklearn.feature_extraction.text import CountVectorizer, TfidfTransformer"
      ],
      "metadata": {
        "id": "UwhDJBBn9LsD"
      },
      "execution_count": 63,
      "outputs": []
    },
    {
      "cell_type": "code",
      "source": [
        "cv = CountVectorizer()"
      ],
      "metadata": {
        "id": "wOj_zcCL9STP"
      },
      "execution_count": 66,
      "outputs": []
    },
    {
      "cell_type": "code",
      "source": [
        "sparse_matrix = cv.fit_transform(text)"
      ],
      "metadata": {
        "id": "QMYlr9YF9U4R"
      },
      "execution_count": 67,
      "outputs": []
    },
    {
      "cell_type": "code",
      "source": [
        "sparse_matrix.todense()"
      ],
      "metadata": {
        "colab": {
          "base_uri": "https://localhost:8080/"
        },
        "id": "OyiEfy4J9W1E",
        "outputId": "c54fbcc6-2254-451d-b959-728b21bf735f"
      },
      "execution_count": 68,
      "outputs": [
        {
          "output_type": "execute_result",
          "data": {
            "text/plain": [
              "matrix([[0, 0, 0, 1, 1, 1],\n",
              "        [1, 0, 0, 1, 1, 1],\n",
              "        [0, 1, 1, 0, 1, 0]])"
            ]
          },
          "metadata": {},
          "execution_count": 68
        }
      ]
    },
    {
      "cell_type": "code",
      "source": [
        "cv.vocabulary_"
      ],
      "metadata": {
        "colab": {
          "base_uri": "https://localhost:8080/"
        },
        "id": "TN6f-pFm9xjX",
        "outputId": "933b5979-3cbd-4ca1-f828-43fbd07a8c51"
      },
      "execution_count": 69,
      "outputs": [
        {
          "output_type": "execute_result",
          "data": {
            "text/plain": [
              "{'this': 5, 'is': 3, 'line': 4, 'another': 0, 'completely': 1, 'different': 2}"
            ]
          },
          "metadata": {},
          "execution_count": 69
        }
      ]
    },
    {
      "cell_type": "code",
      "source": [
        "tfidf = TfidfTransformer()"
      ],
      "metadata": {
        "id": "TcNiIQVi91mw"
      },
      "execution_count": 70,
      "outputs": []
    },
    {
      "cell_type": "code",
      "source": [
        "sparse_matrix"
      ],
      "metadata": {
        "colab": {
          "base_uri": "https://localhost:8080/"
        },
        "id": "4KQcMIF_-ZKJ",
        "outputId": "354aa453-ec09-4c82-bff4-daf5dedbe859"
      },
      "execution_count": 71,
      "outputs": [
        {
          "output_type": "execute_result",
          "data": {
            "text/plain": [
              "<Compressed Sparse Row sparse matrix of dtype 'int64'\n",
              "\twith 10 stored elements and shape (3, 6)>"
            ]
          },
          "metadata": {},
          "execution_count": 71
        }
      ]
    },
    {
      "cell_type": "code",
      "source": [
        "results = tfidf.fit_transform(sparse_matrix)"
      ],
      "metadata": {
        "id": "gZurBGRx-ajE"
      },
      "execution_count": 72,
      "outputs": []
    },
    {
      "cell_type": "code",
      "source": [
        "results"
      ],
      "metadata": {
        "colab": {
          "base_uri": "https://localhost:8080/"
        },
        "id": "m2_Sm_tn-wsp",
        "outputId": "75578cd8-d3f8-4718-df3b-86c0362386d5"
      },
      "execution_count": 73,
      "outputs": [
        {
          "output_type": "execute_result",
          "data": {
            "text/plain": [
              "<Compressed Sparse Row sparse matrix of dtype 'float64'\n",
              "\twith 10 stored elements and shape (3, 6)>"
            ]
          },
          "metadata": {},
          "execution_count": 73
        }
      ]
    },
    {
      "cell_type": "code",
      "source": [
        "results.todense()"
      ],
      "metadata": {
        "colab": {
          "base_uri": "https://localhost:8080/"
        },
        "id": "WOPlDz3t-xXP",
        "outputId": "86c601fb-1497-490f-d1fb-c77f91d3508c"
      },
      "execution_count": 74,
      "outputs": [
        {
          "output_type": "execute_result",
          "data": {
            "text/plain": [
              "matrix([[0.        , 0.        , 0.        , 0.61980538, 0.48133417,\n",
              "         0.61980538],\n",
              "        [0.63174505, 0.        , 0.        , 0.4804584 , 0.37311881,\n",
              "         0.4804584 ],\n",
              "        [0.        , 0.65249088, 0.65249088, 0.        , 0.38537163,\n",
              "         0.        ]])"
            ]
          },
          "metadata": {},
          "execution_count": 74
        }
      ]
    },
    {
      "cell_type": "code",
      "source": [
        "from sklearn.feature_extraction.text import TfidfVectorizer"
      ],
      "metadata": {
        "id": "7ysPjXFv-0gI"
      },
      "execution_count": 75,
      "outputs": []
    },
    {
      "cell_type": "code",
      "source": [
        "tv = TfidfVectorizer()"
      ],
      "metadata": {
        "id": "LJLjUhie_BBn"
      },
      "execution_count": 76,
      "outputs": []
    },
    {
      "cell_type": "code",
      "source": [
        "tv_results = tv.fit_transform(text)"
      ],
      "metadata": {
        "id": "CIIuSPY9_DSF"
      },
      "execution_count": 78,
      "outputs": []
    },
    {
      "cell_type": "code",
      "source": [
        "tv_results.todense()"
      ],
      "metadata": {
        "colab": {
          "base_uri": "https://localhost:8080/"
        },
        "id": "YcbOJj2B_E_f",
        "outputId": "f2306c58-0e29-4579-8000-ce8dae2b3eac"
      },
      "execution_count": 79,
      "outputs": [
        {
          "output_type": "execute_result",
          "data": {
            "text/plain": [
              "matrix([[0.        , 0.        , 0.        , 0.61980538, 0.48133417,\n",
              "         0.61980538],\n",
              "        [0.63174505, 0.        , 0.        , 0.4804584 , 0.37311881,\n",
              "         0.4804584 ],\n",
              "        [0.        , 0.65249088, 0.65249088, 0.        , 0.38537163,\n",
              "         0.        ]])"
            ]
          },
          "metadata": {},
          "execution_count": 79
        }
      ]
    },
    {
      "cell_type": "code",
      "source": [],
      "metadata": {
        "id": "qVsDnGE5_KE1"
      },
      "execution_count": null,
      "outputs": []
    }
  ]
}